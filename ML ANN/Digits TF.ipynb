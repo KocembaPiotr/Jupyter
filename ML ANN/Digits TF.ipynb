{
 "cells": [
  {
   "cell_type": "code",
   "execution_count": 1,
   "id": "b54a8e49",
   "metadata": {},
   "outputs": [],
   "source": [
    "import tensorflow as tf\n",
    "from tensorflow import keras\n",
    "import matplotlib.pyplot as plt\n",
    "%matplotlib inline\n",
    "import numpy as np"
   ]
  },
  {
   "cell_type": "code",
   "execution_count": 3,
   "id": "26188271",
   "metadata": {},
   "outputs": [],
   "source": [
    "with np.load('data/dataDigits.npz') as data:\n",
    "  X_train = data['x_train']\n",
    "  y_train = data['y_train']\n",
    "  X_test = data['x_test']\n",
    "  y_test = data['y_test']"
   ]
  },
  {
   "cell_type": "code",
   "execution_count": 4,
   "id": "33881404",
   "metadata": {},
   "outputs": [
    {
     "data": {
      "text/plain": [
       "60000"
      ]
     },
     "execution_count": 4,
     "metadata": {},
     "output_type": "execute_result"
    }
   ],
   "source": [
    "len(X_train)"
   ]
  },
  {
   "cell_type": "code",
   "execution_count": 5,
   "id": "4fc6f20d",
   "metadata": {},
   "outputs": [
    {
     "data": {
      "text/plain": [
       "10000"
      ]
     },
     "execution_count": 5,
     "metadata": {},
     "output_type": "execute_result"
    }
   ],
   "source": [
    "len(X_test)"
   ]
  },
  {
   "cell_type": "code",
   "execution_count": 6,
   "id": "74f3fa54",
   "metadata": {},
   "outputs": [
    {
     "data": {
      "text/plain": [
       "(28, 28)"
      ]
     },
     "execution_count": 6,
     "metadata": {},
     "output_type": "execute_result"
    }
   ],
   "source": [
    "X_train[0].shape"
   ]
  },
  {
   "cell_type": "code",
   "execution_count": 7,
   "id": "ec1c93ee",
   "metadata": {},
   "outputs": [
    {
     "data": {
      "text/plain": [
       "<matplotlib.image.AxesImage at 0x20135a0a640>"
      ]
     },
     "execution_count": 7,
     "metadata": {},
     "output_type": "execute_result"
    },
    {
     "data": {
      "image/png": "[encoded data removed]",
      "text/plain": [
       "<Figure size 288x288 with 1 Axes>"
      ]
     },
     "metadata": {
      "needs_background": "light"
     },
     "output_type": "display_data"
    }
   ],
   "source": [
    "plt.matshow(X_train[2])"
   ]
  },
  {
   "cell_type": "code",
   "execution_count": 8,
   "id": "febd8699",
   "metadata": {},
   "outputs": [
    {
     "data": {
      "text/plain": [
       "4"
      ]
     },
     "execution_count": 8,
     "metadata": {},
     "output_type": "execute_result"
    }
   ],
   "source": [
    "y_train[2]"
   ]
  },
  {
   "cell_type": "code",
   "execution_count": 9,
   "id": "a854a878",
   "metadata": {},
   "outputs": [
    {
     "data": {
      "text/plain": [
       "array([5, 0, 4, 1, 9], dtype=uint8)"
      ]
     },
     "execution_count": 9,
     "metadata": {},
     "output_type": "execute_result"
    }
   ],
   "source": [
    "y_train[:5]"
   ]
  },
  {
   "cell_type": "code",
   "execution_count": 11,
   "id": "af48d1cf",
   "metadata": {},
   "outputs": [
    {
     "data": {
      "text/plain": [
       "(60000, 28, 28)"
      ]
     },
     "execution_count": 11,
     "metadata": {},
     "output_type": "execute_result"
    }
   ],
   "source": [
    "X_train.shape"
   ]
  },
  {
   "cell_type": "code",
   "execution_count": 17,
   "id": "a1484a38",
   "metadata": {},
   "outputs": [],
   "source": [
    "X_train_s=X_train/255\n",
    "X_test_s=X_test/255"
   ]
  },
  {
   "cell_type": "code",
   "execution_count": 25,
   "id": "0d9aa281",
   "metadata": {},
   "outputs": [],
   "source": [
    "X_train_f=X_train_s.reshape(-1,28*28)\n",
    "X_test_f=X_test_s.reshape(-1,28*28)"
   ]
  },
  {
   "cell_type": "code",
   "execution_count": 26,
   "id": "c6decec1",
   "metadata": {},
   "outputs": [
    {
     "data": {
      "text/plain": [
       "(60000, 784)"
      ]
     },
     "execution_count": 26,
     "metadata": {},
     "output_type": "execute_result"
    }
   ],
   "source": [
    "X_train_f.shape"
   ]
  },
  {
   "cell_type": "code",
   "execution_count": 101,
   "id": "aed6369d",
   "metadata": {},
   "outputs": [
    {
     "data": {
      "text/plain": [
       "(10000, 784)"
      ]
     },
     "execution_count": 101,
     "metadata": {},
     "output_type": "execute_result"
    }
   ],
   "source": [
    "X_test_f.shape"
   ]
  },
  {
   "cell_type": "code",
   "execution_count": 33,
   "id": "56529df8",
   "metadata": {},
   "outputs": [
    {
     "name": "stdout",
     "output_type": "stream",
     "text": [
      "Epoch 1/3\n",
      "1875/1875 [==============================] - 2s 754us/step - loss: 0.4693 - accuracy: 0.8773\n",
      "Epoch 2/3\n",
      "1875/1875 [==============================] - 1s 761us/step - loss: 0.3032 - accuracy: 0.9152\n",
      "Epoch 3/3\n",
      "1875/1875 [==============================] - 1s 731us/step - loss: 0.2832 - accuracy: 0.9211\n"
     ]
    },
    {
     "data": {
      "text/plain": [
       "<keras.callbacks.History at 0x201384dcf10>"
      ]
     },
     "execution_count": 33,
     "metadata": {},
     "output_type": "execute_result"
    }
   ],
   "source": [
    "# model=keras.Sequential([\n",
    "#     keras.layers.Dense(10,input_shape=(784,),activation='sigmoid')\n",
    "# ])\n",
    "\n",
    "# model.compile(\n",
    "#     optimizer='adam',\n",
    "#     loss='sparse_categorical_crossentropy',\n",
    "#     metrics=['accuracy']\n",
    "# )\n",
    "\n",
    "# model.fit(X_train_f,y_train,epochs=3)"
   ]
  },
  {
   "cell_type": "code",
   "execution_count": 103,
   "id": "9ea4926d",
   "metadata": {},
   "outputs": [],
   "source": [
    "# model.evaluate(X_test_f,y_test)"
   ]
  },
  {
   "cell_type": "code",
   "execution_count": 104,
   "id": "b848ec10",
   "metadata": {},
   "outputs": [],
   "source": [
    "# plt.matshow(X_test[10])"
   ]
  },
  {
   "cell_type": "code",
   "execution_count": 105,
   "id": "5e9e06b5",
   "metadata": {},
   "outputs": [],
   "source": [
    "# y_predicted=model.predict(X_test_f)"
   ]
  },
  {
   "cell_type": "code",
   "execution_count": 106,
   "id": "9435614c",
   "metadata": {},
   "outputs": [],
   "source": [
    "# y_predicted[0]"
   ]
  },
  {
   "cell_type": "code",
   "execution_count": 107,
   "id": "10c28834",
   "metadata": {},
   "outputs": [],
   "source": [
    "# np.argmax(y_predicted[10])"
   ]
  },
  {
   "cell_type": "code",
   "execution_count": 108,
   "id": "efcd8952",
   "metadata": {},
   "outputs": [],
   "source": [
    "# y_predicted=[np.argmax(i) for i in y_predicted]"
   ]
  },
  {
   "cell_type": "code",
   "execution_count": 109,
   "id": "522fdb58",
   "metadata": {},
   "outputs": [],
   "source": [
    "# y_predicted[:5]"
   ]
  },
  {
   "cell_type": "code",
   "execution_count": 110,
   "id": "15fa29d7",
   "metadata": {},
   "outputs": [],
   "source": [
    "# y_test[:5]"
   ]
  },
  {
   "cell_type": "code",
   "execution_count": 111,
   "id": "bbaaa8cb",
   "metadata": {},
   "outputs": [],
   "source": [
    "# cm=tf.math.confusion_matrix(labels=y_test,predictions=y_predicted)\n",
    "# cm"
   ]
  },
  {
   "cell_type": "code",
   "execution_count": 112,
   "id": "6f1ad6a6",
   "metadata": {},
   "outputs": [],
   "source": [
    "# import seaborn as sn\n",
    "# plt.figure(figsize=(10,7))\n",
    "# sn.heatmap(cm,annot=True,fmt='d')\n",
    "# plt.xlabel('Predicted')\n",
    "# plt.ylabel('Truth')"
   ]
  },
  {
   "cell_type": "code",
   "execution_count": 113,
   "id": "67e9b09c",
   "metadata": {},
   "outputs": [],
   "source": [
    "# model=keras.Sequential([\n",
    "#     keras.layers.Dense(100,input_shape=(784,),activation='relu'),\n",
    "#     keras.layers.Dense(10,activation='sigmoid')\n",
    "# ])\n",
    "\n",
    "# model.compile(\n",
    "#     optimizer='adam',\n",
    "#     loss='sparse_categorical_crossentropy',\n",
    "#     metrics=['accuracy']\n",
    "# )\n",
    "\n",
    "# model.fit(X_train_f,y_train,epochs=10)"
   ]
  },
  {
   "cell_type": "code",
   "execution_count": 114,
   "id": "a519daa4",
   "metadata": {},
   "outputs": [],
   "source": [
    "# model.evaluate(X_test_f,y_test)"
   ]
  },
  {
   "cell_type": "code",
   "execution_count": 115,
   "id": "68779139",
   "metadata": {},
   "outputs": [],
   "source": [
    "# y_predicted=model.predict(X_test_f)\n",
    "# y_predicted=[np.argmax(i) for i in y_predicted]\n",
    "# cm=tf.math.confusion_matrix(labels=y_test,predictions=y_predicted)\n",
    "# cm\n",
    "# plt.figure(figsize=(10,7))\n",
    "# sn.heatmap(cm,annot=True,fmt='d')\n",
    "# plt.xlabel('Predicted')\n",
    "# plt.ylabel('Truth')"
   ]
  },
  {
   "cell_type": "code",
   "execution_count": 116,
   "id": "b63a3164",
   "metadata": {},
   "outputs": [
    {
     "name": "stdout",
     "output_type": "stream",
     "text": [
      "Epoch 1/5\n",
      "1875/1875 [==============================] - 3s 1ms/step - loss: 2.3755 - accuracy: 0.8306\n",
      "Epoch 2/5\n",
      "1875/1875 [==============================] - 3s 2ms/step - loss: 0.4204 - accuracy: 0.8946\n",
      "Epoch 3/5\n",
      "1875/1875 [==============================] - 3s 1ms/step - loss: 0.2968 - accuracy: 0.9205\n",
      "Epoch 4/5\n",
      "1875/1875 [==============================] - 3s 1ms/step - loss: 0.2543 - accuracy: 0.9326\n",
      "Epoch 5/5\n",
      "1875/1875 [==============================] - 3s 1ms/step - loss: 0.2302 - accuracy: 0.9392\n"
     ]
    },
    {
     "data": {
      "text/plain": [
       "<keras.callbacks.History at 0x1d734fe3430>"
      ]
     },
     "execution_count": 116,
     "metadata": {},
     "output_type": "execute_result"
    }
   ],
   "source": [
    "model=keras.Sequential([\n",
    "    keras.layers.Flatten(input_shape=(28,28)),\n",
    "    keras.layers.Dense(100,activation='relu'),\n",
    "    keras.layers.Dense(10,activation='sigmoid')\n",
    "])\n",
    "\n",
    "tb_callback = tf.keras.callbacks.TensorBoard(log_dir='logs/',histogram_freq=1)\n",
    "\n",
    "model.compile(\n",
    "    optimizer='adam',\n",
    "    loss='sparse_categorical_crossentropy',\n",
    "    metrics=['accuracy']\n",
    ")\n",
    "\n",
    "model.fit(X_train,y_train,epochs=5, callbacks=[tb_callback])"
   ]
  },
  {
   "cell_type": "code",
   "execution_count": 117,
   "id": "79c88c4a",
   "metadata": {},
   "outputs": [
    {
     "name": "stdout",
     "output_type": "stream",
     "text": [
      "313/313 [==============================] - 0s 921us/step - loss: 0.2409 - accuracy: 0.9429\n"
     ]
    },
    {
     "data": {
      "text/plain": [
       "[0.24090959131717682, 0.9429000020027161]"
      ]
     },
     "execution_count": 117,
     "metadata": {},
     "output_type": "execute_result"
    }
   ],
   "source": [
    "model.evaluate(X_test,y_test)"
   ]
  },
  {
   "cell_type": "code",
   "execution_count": 118,
   "id": "fe7f0081",
   "metadata": {},
   "outputs": [],
   "source": [
    "# %load_ext tensorboard\n",
    "# %tensorboard --logdir logs/"
   ]
  }
 ],
 "metadata": {
  "kernelspec": {
   "display_name": "Python 3 (ipykernel)",
   "language": "python",
   "name": "python3"
  },
  "language_info": {
   "codemirror_mode": {
    "name": "ipython",
    "version": 3
   },
   "file_extension": ".py",
   "mimetype": "text/x-python",
   "name": "python",
   "nbconvert_exporter": "python",
   "pygments_lexer": "ipython3",
   "version": "3.9.12"
  }
 },
 "nbformat": 4,
 "nbformat_minor": 5
}
