{
 "cells": [
  {
   "cell_type": "code",
   "execution_count": 378,
   "id": "126c9b4d",
   "metadata": {},
   "outputs": [],
   "source": [
    "import numpy as np\n",
    "import pandas as pd\n",
    "import matplotlib.pyplot as plt\n",
    "import seaborn as sns\n",
    "from sklearn.model_selection import StratifiedShuffleSplit\n",
    "from sklearn.base import BaseEstimator, TransformerMixin\n",
    "from sklearn.impute import SimpleImputer\n",
    "from sklearn.preprocessing import OneHotEncoder\n",
    "from sklearn.pipeline import Pipeline\n",
    "from sklearn.preprocessing import StandardScaler\n",
    "from sklearn.ensemble import RandomForestClassifier\n",
    "from sklearn.model_selection import GridSearchCV"
   ]
  },
  {
   "cell_type": "code",
   "execution_count": 379,
   "id": "9664603c",
   "metadata": {},
   "outputs": [],
   "source": [
    "titanic_data=pd.read_csv('dataTitanic.csv')"
   ]
  },
  {
   "cell_type": "code",
   "execution_count": 380,
   "id": "41e6b5a9",
   "metadata": {},
   "outputs": [],
   "source": [
    "# titanic_data\n",
    "# titanic_data.describe()\n",
    "# titanic_data.head()\n",
    "# titanic_data.info()"
   ]
  },
  {
   "cell_type": "code",
   "execution_count": 381,
   "id": "f7e4f415",
   "metadata": {},
   "outputs": [
    {
     "data": {
      "image/png": "[encoded data removed]",
      "text/plain": [
       "<Figure size 432x288 with 2 Axes>"
      ]
     },
     "metadata": {
      "needs_background": "light"
     },
     "output_type": "display_data"
    }
   ],
   "source": [
    "sns.heatmap(titanic_data.corr(),cmap=\"YlGnBu\")\n",
    "plt.show()"
   ]
  },
  {
   "cell_type": "code",
   "execution_count": 382,
   "id": "ae94dc1f",
   "metadata": {},
   "outputs": [],
   "source": [
    "split=StratifiedShuffleSplit(n_splits=1,test_size=0.2)\n",
    "for train_indices, test_indices in split.split(titanic_data,titanic_data[[\"Survived\",\"Pclass\",\"Sex\"]]):\n",
    "        strat_train_set = titanic_data.loc[train_indices]\n",
    "        strat_test_set = titanic_data.loc[test_indices]"
   ]
  },
  {
   "cell_type": "code",
   "execution_count": 383,
   "id": "44edc5e9",
   "metadata": {},
   "outputs": [],
   "source": [
    "# strat_test_set\n",
    "# strat_train_set"
   ]
  },
  {
   "cell_type": "code",
   "execution_count": 384,
   "id": "cd764011",
   "metadata": {},
   "outputs": [
    {
     "data": {
      "image/png": "[encoded data removed]",
      "text/plain": [
       "<Figure size 432x288 with 2 Axes>"
      ]
     },
     "metadata": {
      "needs_background": "light"
     },
     "output_type": "display_data"
    }
   ],
   "source": [
    "plt.subplot(1,2,1)\n",
    "strat_train_set['Survived'].hist()\n",
    "strat_train_set['Pclass'].hist()\n",
    "plt.subplot(1,2,2)\n",
    "strat_test_set['Survived'].hist()\n",
    "strat_test_set['Pclass'].hist()\n",
    "plt.show() \n",
    "#equal distribution plots similar"
   ]
  },
  {
   "cell_type": "code",
   "execution_count": 385,
   "id": "593191bb",
   "metadata": {},
   "outputs": [
    {
     "name": "stdout",
     "output_type": "stream",
     "text": [
      "<class 'pandas.core.frame.DataFrame'>\n",
      "Int64Index: 334 entries, 395 to 264\n",
      "Data columns (total 12 columns):\n",
      " #   Column       Non-Null Count  Dtype  \n",
      "---  ------       --------------  -----  \n",
      " 0   PassengerId  334 non-null    int64  \n",
      " 1   Survived     334 non-null    int64  \n",
      " 2   Pclass       334 non-null    int64  \n",
      " 3   Name         334 non-null    object \n",
      " 4   Sex          334 non-null    object \n",
      " 5   Age          269 non-null    float64\n",
      " 6   SibSp        334 non-null    int64  \n",
      " 7   Parch        334 non-null    int64  \n",
      " 8   Ticket       334 non-null    object \n",
      " 9   Fare         333 non-null    float64\n",
      " 10  Cabin        71 non-null     object \n",
      " 11  Embarked     334 non-null    object \n",
      "dtypes: float64(2), int64(5), object(5)\n",
      "memory usage: 33.9+ KB\n"
     ]
    }
   ],
   "source": [
    "strat_train_set.info()"
   ]
  },
  {
   "cell_type": "code",
   "execution_count": 386,
   "id": "d1e5c028",
   "metadata": {},
   "outputs": [],
   "source": [
    "class AgeImputer(BaseEstimator,TransformerMixin):\n",
    "    \n",
    "    def fit(self,X,y=None):\n",
    "        return self\n",
    "    \n",
    "    def transform(self,X):\n",
    "        imputer=SimpleImputer(strategy=\"mean\")\n",
    "        X['Age']=imputer.fit_transform(X[['Age']])\n",
    "        return X"
   ]
  },
  {
   "cell_type": "code",
   "execution_count": 387,
   "id": "b38984c4",
   "metadata": {},
   "outputs": [],
   "source": [
    "class FeatureEncoder(BaseEstimator,TransformerMixin):\n",
    "    \n",
    "    def fit(self,X,y=None):\n",
    "        return self\n",
    "    \n",
    "    def transform(self,X):\n",
    "        encoder=OneHotEncoder()\n",
    "        \n",
    "        matrix=encoder.fit_transform(X[['Embarked']]).toarray()\n",
    "        column_names=[\"C\",\"S\",\"Q\",\"N\"]\n",
    "        for i in range(len(matrix.T)):\n",
    "            X[column_names[i]]=matrix.T[i]\n",
    "        \n",
    "        matrix=encoder.fit_transform(X[['Sex']]).toarray()\n",
    "        column_names=[\"Female\",\"Male\"]\n",
    "        for i in range(len(matrix.T)):\n",
    "            X[column_names[i]]=matrix.T[i]\n",
    "            \n",
    "        return X"
   ]
  },
  {
   "cell_type": "code",
   "execution_count": 396,
   "id": "00cb6285",
   "metadata": {},
   "outputs": [],
   "source": [
    "class FeatureNan(BaseEstimator,TransformerMixin):\n",
    "    \n",
    "    def fit(self,X,y=None):\n",
    "        return self\n",
    "    \n",
    "    def transform(self,X):\n",
    "        X['Fare']=X['Fare'].fillna(X['Fare'].mean())\n",
    "        return X"
   ]
  },
  {
   "cell_type": "code",
   "execution_count": 389,
   "id": "64350cbf",
   "metadata": {},
   "outputs": [],
   "source": [
    "class FeatureDropper(BaseEstimator,TransformerMixin):\n",
    "    \n",
    "    def fit(self,X,y=None):\n",
    "        return self\n",
    "    \n",
    "    def transform(self,X):\n",
    "        return X.drop([\"Embarked\",\"Name\",\"Ticket\",\"Cabin\",\"Sex\",\"N\"],axis=1,errors=\"ignore\")"
   ]
  },
  {
   "cell_type": "code",
   "execution_count": 413,
   "id": "dd0c9ce2",
   "metadata": {},
   "outputs": [],
   "source": [
    "pipeline=Pipeline([(\"ageimputer\",AgeImputer()),\n",
    "                   (\"featureencoder\",FeatureEncoder()),\n",
    "                   (\"featurenan\",FeatureNan()),\n",
    "                   (\"featuredropper\",FeatureDropper())])\n",
    "pipelineSet=pipeline.fit_transform(strat_train_set)"
   ]
  },
  {
   "cell_type": "code",
   "execution_count": 414,
   "id": "7e275ad3",
   "metadata": {},
   "outputs": [],
   "source": [
    "strat_train_set=pipelineSet"
   ]
  },
  {
   "cell_type": "code",
   "execution_count": 415,
   "id": "eaf1f483",
   "metadata": {},
   "outputs": [
    {
     "name": "stdout",
     "output_type": "stream",
     "text": [
      "<class 'pandas.core.frame.DataFrame'>\n",
      "Int64Index: 334 entries, 395 to 264\n",
      "Data columns (total 12 columns):\n",
      " #   Column       Non-Null Count  Dtype  \n",
      "---  ------       --------------  -----  \n",
      " 0   PassengerId  334 non-null    int64  \n",
      " 1   Survived     334 non-null    int64  \n",
      " 2   Pclass       334 non-null    int64  \n",
      " 3   Age          334 non-null    float64\n",
      " 4   SibSp        334 non-null    int64  \n",
      " 5   Parch        334 non-null    int64  \n",
      " 6   Fare         334 non-null    float64\n",
      " 7   C            334 non-null    float64\n",
      " 8   S            334 non-null    float64\n",
      " 9   Q            334 non-null    float64\n",
      " 10  Female       334 non-null    float64\n",
      " 11  Male         334 non-null    float64\n",
      "dtypes: float64(7), int64(5)\n",
      "memory usage: 33.9 KB\n"
     ]
    }
   ],
   "source": [
    "# strat_train_set\n",
    "\n",
    "strat_train_set.info()\n",
    "strat_train_set.to_excel(\"test.xlsx\", index=False)"
   ]
  },
  {
   "cell_type": "code",
   "execution_count": 416,
   "id": "92239378",
   "metadata": {},
   "outputs": [],
   "source": [
    "X=strat_train_set.drop(['Survived'],axis=1)\n",
    "y=strat_train_set['Survived']\n",
    "scaler=StandardScaler()\n",
    "X_data =scaler.fit_transform(X)\n",
    "y_data = y.to_numpy()"
   ]
  },
  {
   "cell_type": "code",
   "execution_count": 361,
   "id": "4f7f031d",
   "metadata": {},
   "outputs": [],
   "source": [
    "# X_data"
   ]
  },
  {
   "cell_type": "code",
   "execution_count": 362,
   "id": "de5f9005",
   "metadata": {},
   "outputs": [],
   "source": [
    "# y_data"
   ]
  },
  {
   "cell_type": "code",
   "execution_count": 1,
   "id": "0b7a96e7",
   "metadata": {},
   "outputs": [
    {
     "ename": "NameError",
     "evalue": "name 'RandomForestClassifier' is not defined",
     "output_type": "error",
     "traceback": [
      "\u001b[1;31m---------------------------------------------------------------------------\u001b[0m",
      "\u001b[1;31mNameError\u001b[0m                                 Traceback (most recent call last)",
      "Input \u001b[1;32mIn [1]\u001b[0m, in \u001b[0;36m<cell line: 1>\u001b[1;34m()\u001b[0m\n\u001b[1;32m----> 1\u001b[0m clf\u001b[38;5;241m=\u001b[39m\u001b[43mRandomForestClassifier\u001b[49m()\n\u001b[0;32m      2\u001b[0m param_grid \u001b[38;5;241m=\u001b[39m [\n\u001b[0;32m      3\u001b[0m     {\u001b[38;5;124m\"\u001b[39m\u001b[38;5;124mn_estimators\u001b[39m\u001b[38;5;124m\"\u001b[39m:[\u001b[38;5;241m10\u001b[39m,\u001b[38;5;241m100\u001b[39m,\u001b[38;5;241m200\u001b[39m,\u001b[38;5;241m500\u001b[39m],\n\u001b[0;32m      4\u001b[0m     \u001b[38;5;124m\"\u001b[39m\u001b[38;5;124mmax_depth\u001b[39m\u001b[38;5;124m\"\u001b[39m: [\u001b[38;5;28;01mNone\u001b[39;00m,\u001b[38;5;241m5\u001b[39m,\u001b[38;5;241m10\u001b[39m],\n\u001b[0;32m      5\u001b[0m      \u001b[38;5;124m\"\u001b[39m\u001b[38;5;124mmin_samples_split\u001b[39m\u001b[38;5;124m\"\u001b[39m: [\u001b[38;5;241m2\u001b[39m,\u001b[38;5;241m3\u001b[39m,\u001b[38;5;241m4\u001b[39m]\n\u001b[0;32m      6\u001b[0m     }\n\u001b[0;32m      7\u001b[0m ]\n\u001b[0;32m      9\u001b[0m grid_search\u001b[38;5;241m=\u001b[39mGridSearchCV(clf,param_grid,cv\u001b[38;5;241m=\u001b[39m\u001b[38;5;241m3\u001b[39m,scoring\u001b[38;5;241m=\u001b[39m\u001b[38;5;124m\"\u001b[39m\u001b[38;5;124maccuracy\u001b[39m\u001b[38;5;124m\"\u001b[39m,return_train_score\u001b[38;5;241m=\u001b[39m\u001b[38;5;28;01mTrue\u001b[39;00m)\n",
      "\u001b[1;31mNameError\u001b[0m: name 'RandomForestClassifier' is not defined"
     ]
    }
   ],
   "source": [
    "clf=RandomForestClassifier()\n",
    "param_grid = [\n",
    "    {\"n_estimators\":[10,100,200,500],\n",
    "    \"max_depth\": [None,5,10],\n",
    "     \"min_samples_split\": [2,3,4]\n",
    "    }\n",
    "]\n",
    "\n",
    "grid_search=GridSearchCV(clf,param_grid,cv=3,scoring=\"accuracy\",return_train_score=True)\n",
    "grid_search.fit(X_data,y_data)"
   ]
  },
  {
   "cell_type": "code",
   "execution_count": 418,
   "id": "a869d90e",
   "metadata": {},
   "outputs": [
    {
     "data": {
      "text/plain": [
       "RandomForestClassifier(n_estimators=10)"
      ]
     },
     "execution_count": 418,
     "metadata": {},
     "output_type": "execute_result"
    }
   ],
   "source": [
    "final_clf=grid_search.best_estimator_\n",
    "final_clf"
   ]
  },
  {
   "cell_type": "code",
   "execution_count": 420,
   "id": "378a2edb",
   "metadata": {},
   "outputs": [],
   "source": [
    "pipelineTest=pipeline.fit_transform(strat_test_set)"
   ]
  },
  {
   "cell_type": "code",
   "execution_count": 421,
   "id": "60dc4788",
   "metadata": {},
   "outputs": [],
   "source": [
    "strat_test_set=pipelineTest"
   ]
  },
  {
   "cell_type": "code",
   "execution_count": 422,
   "id": "20f3a4ab",
   "metadata": {},
   "outputs": [],
   "source": [
    "X_test=strat_test_set.drop(['Survived'],axis=1)\n",
    "y_test=strat_test_set['Survived']\n",
    "scaler=StandardScaler()\n",
    "X_data_test =scaler.fit_transform(X_test)\n",
    "y_data_test = y_test.to_numpy()"
   ]
  },
  {
   "cell_type": "code",
   "execution_count": 427,
   "id": "aa45c246",
   "metadata": {},
   "outputs": [
    {
     "data": {
      "text/plain": [
       "1.0"
      ]
     },
     "execution_count": 427,
     "metadata": {},
     "output_type": "execute_result"
    }
   ],
   "source": [
    "final_clf.score(X_data_test,y_data_test)"
   ]
  },
  {
   "cell_type": "code",
   "execution_count": 428,
   "id": "d4c35baf",
   "metadata": {},
   "outputs": [],
   "source": [
    "final_data=pipeline.fit_transform(titanic_data)"
   ]
  },
  {
   "cell_type": "code",
   "execution_count": 432,
   "id": "3cb82c3a",
   "metadata": {},
   "outputs": [
    {
     "data": {
      "text/html": [
       "<div>\n",
       "<style scoped>\n",
       "    .dataframe tbody tr th:only-of-type {\n",
       "        vertical-align: middle;\n",
       "    }\n",
       "\n",
       "    .dataframe tbody tr th {\n",
       "        vertical-align: top;\n",
       "    }\n",
       "\n",
       "    .dataframe thead th {\n",
       "        text-align: right;\n",
       "    }\n",
       "</style>\n",
       "<table border=\"1\" class=\"dataframe\">\n",
       "  <thead>\n",
       "    <tr style=\"text-align: right;\">\n",
       "      <th></th>\n",
       "      <th>PassengerId</th>\n",
       "      <th>Survived</th>\n",
       "      <th>Pclass</th>\n",
       "      <th>Age</th>\n",
       "      <th>SibSp</th>\n",
       "      <th>Parch</th>\n",
       "      <th>Fare</th>\n",
       "      <th>C</th>\n",
       "      <th>S</th>\n",
       "      <th>Q</th>\n",
       "      <th>Female</th>\n",
       "      <th>Male</th>\n",
       "    </tr>\n",
       "  </thead>\n",
       "  <tbody>\n",
       "    <tr>\n",
       "      <th>0</th>\n",
       "      <td>892</td>\n",
       "      <td>0</td>\n",
       "      <td>3</td>\n",
       "      <td>34.50000</td>\n",
       "      <td>0</td>\n",
       "      <td>0</td>\n",
       "      <td>7.8292</td>\n",
       "      <td>0.0</td>\n",
       "      <td>1.0</td>\n",
       "      <td>0.0</td>\n",
       "      <td>0.0</td>\n",
       "      <td>1.0</td>\n",
       "    </tr>\n",
       "    <tr>\n",
       "      <th>1</th>\n",
       "      <td>893</td>\n",
       "      <td>1</td>\n",
       "      <td>3</td>\n",
       "      <td>47.00000</td>\n",
       "      <td>1</td>\n",
       "      <td>0</td>\n",
       "      <td>7.0000</td>\n",
       "      <td>0.0</td>\n",
       "      <td>0.0</td>\n",
       "      <td>1.0</td>\n",
       "      <td>1.0</td>\n",
       "      <td>0.0</td>\n",
       "    </tr>\n",
       "    <tr>\n",
       "      <th>2</th>\n",
       "      <td>894</td>\n",
       "      <td>0</td>\n",
       "      <td>2</td>\n",
       "      <td>62.00000</td>\n",
       "      <td>0</td>\n",
       "      <td>0</td>\n",
       "      <td>9.6875</td>\n",
       "      <td>0.0</td>\n",
       "      <td>1.0</td>\n",
       "      <td>0.0</td>\n",
       "      <td>0.0</td>\n",
       "      <td>1.0</td>\n",
       "    </tr>\n",
       "    <tr>\n",
       "      <th>3</th>\n",
       "      <td>895</td>\n",
       "      <td>0</td>\n",
       "      <td>3</td>\n",
       "      <td>27.00000</td>\n",
       "      <td>0</td>\n",
       "      <td>0</td>\n",
       "      <td>8.6625</td>\n",
       "      <td>0.0</td>\n",
       "      <td>0.0</td>\n",
       "      <td>1.0</td>\n",
       "      <td>0.0</td>\n",
       "      <td>1.0</td>\n",
       "    </tr>\n",
       "    <tr>\n",
       "      <th>4</th>\n",
       "      <td>896</td>\n",
       "      <td>1</td>\n",
       "      <td>3</td>\n",
       "      <td>22.00000</td>\n",
       "      <td>1</td>\n",
       "      <td>1</td>\n",
       "      <td>12.2875</td>\n",
       "      <td>0.0</td>\n",
       "      <td>0.0</td>\n",
       "      <td>1.0</td>\n",
       "      <td>1.0</td>\n",
       "      <td>0.0</td>\n",
       "    </tr>\n",
       "    <tr>\n",
       "      <th>...</th>\n",
       "      <td>...</td>\n",
       "      <td>...</td>\n",
       "      <td>...</td>\n",
       "      <td>...</td>\n",
       "      <td>...</td>\n",
       "      <td>...</td>\n",
       "      <td>...</td>\n",
       "      <td>...</td>\n",
       "      <td>...</td>\n",
       "      <td>...</td>\n",
       "      <td>...</td>\n",
       "      <td>...</td>\n",
       "    </tr>\n",
       "    <tr>\n",
       "      <th>413</th>\n",
       "      <td>1305</td>\n",
       "      <td>0</td>\n",
       "      <td>3</td>\n",
       "      <td>30.27259</td>\n",
       "      <td>0</td>\n",
       "      <td>0</td>\n",
       "      <td>8.0500</td>\n",
       "      <td>0.0</td>\n",
       "      <td>0.0</td>\n",
       "      <td>1.0</td>\n",
       "      <td>0.0</td>\n",
       "      <td>1.0</td>\n",
       "    </tr>\n",
       "    <tr>\n",
       "      <th>414</th>\n",
       "      <td>1306</td>\n",
       "      <td>1</td>\n",
       "      <td>1</td>\n",
       "      <td>39.00000</td>\n",
       "      <td>0</td>\n",
       "      <td>0</td>\n",
       "      <td>108.9000</td>\n",
       "      <td>1.0</td>\n",
       "      <td>0.0</td>\n",
       "      <td>0.0</td>\n",
       "      <td>1.0</td>\n",
       "      <td>0.0</td>\n",
       "    </tr>\n",
       "    <tr>\n",
       "      <th>415</th>\n",
       "      <td>1307</td>\n",
       "      <td>0</td>\n",
       "      <td>3</td>\n",
       "      <td>38.50000</td>\n",
       "      <td>0</td>\n",
       "      <td>0</td>\n",
       "      <td>7.2500</td>\n",
       "      <td>0.0</td>\n",
       "      <td>0.0</td>\n",
       "      <td>1.0</td>\n",
       "      <td>0.0</td>\n",
       "      <td>1.0</td>\n",
       "    </tr>\n",
       "    <tr>\n",
       "      <th>416</th>\n",
       "      <td>1308</td>\n",
       "      <td>0</td>\n",
       "      <td>3</td>\n",
       "      <td>30.27259</td>\n",
       "      <td>0</td>\n",
       "      <td>0</td>\n",
       "      <td>8.0500</td>\n",
       "      <td>0.0</td>\n",
       "      <td>0.0</td>\n",
       "      <td>1.0</td>\n",
       "      <td>0.0</td>\n",
       "      <td>1.0</td>\n",
       "    </tr>\n",
       "    <tr>\n",
       "      <th>417</th>\n",
       "      <td>1309</td>\n",
       "      <td>0</td>\n",
       "      <td>3</td>\n",
       "      <td>30.27259</td>\n",
       "      <td>1</td>\n",
       "      <td>1</td>\n",
       "      <td>22.3583</td>\n",
       "      <td>1.0</td>\n",
       "      <td>0.0</td>\n",
       "      <td>0.0</td>\n",
       "      <td>0.0</td>\n",
       "      <td>1.0</td>\n",
       "    </tr>\n",
       "  </tbody>\n",
       "</table>\n",
       "<p>418 rows × 12 columns</p>\n",
       "</div>"
      ],
      "text/plain": [
       "     PassengerId  Survived  Pclass       Age  SibSp  Parch      Fare    C  \\\n",
       "0            892         0       3  34.50000      0      0    7.8292  0.0   \n",
       "1            893         1       3  47.00000      1      0    7.0000  0.0   \n",
       "2            894         0       2  62.00000      0      0    9.6875  0.0   \n",
       "3            895         0       3  27.00000      0      0    8.6625  0.0   \n",
       "4            896         1       3  22.00000      1      1   12.2875  0.0   \n",
       "..           ...       ...     ...       ...    ...    ...       ...  ...   \n",
       "413         1305         0       3  30.27259      0      0    8.0500  0.0   \n",
       "414         1306         1       1  39.00000      0      0  108.9000  1.0   \n",
       "415         1307         0       3  38.50000      0      0    7.2500  0.0   \n",
       "416         1308         0       3  30.27259      0      0    8.0500  0.0   \n",
       "417         1309         0       3  30.27259      1      1   22.3583  1.0   \n",
       "\n",
       "       S    Q  Female  Male  \n",
       "0    1.0  0.0     0.0   1.0  \n",
       "1    0.0  1.0     1.0   0.0  \n",
       "2    1.0  0.0     0.0   1.0  \n",
       "3    0.0  1.0     0.0   1.0  \n",
       "4    0.0  1.0     1.0   0.0  \n",
       "..   ...  ...     ...   ...  \n",
       "413  0.0  1.0     0.0   1.0  \n",
       "414  0.0  0.0     1.0   0.0  \n",
       "415  0.0  1.0     0.0   1.0  \n",
       "416  0.0  1.0     0.0   1.0  \n",
       "417  0.0  0.0     0.0   1.0  \n",
       "\n",
       "[418 rows x 12 columns]"
      ]
     },
     "execution_count": 432,
     "metadata": {},
     "output_type": "execute_result"
    }
   ],
   "source": [
    "final_data"
   ]
  },
  {
   "cell_type": "code",
   "execution_count": 433,
   "id": "790f141a",
   "metadata": {},
   "outputs": [],
   "source": [
    "X_final=final_data.drop([\"Survived\"],axis=1)\n",
    "y_final=final_data[\"Survived\"]\n",
    "scaler=StandardScaler()\n",
    "X_data_final=scaler.fit_transform(X_final)\n",
    "y_data_final=y_final.to_numpy()"
   ]
  },
  {
   "cell_type": "code",
   "execution_count": 434,
   "id": "e35fe469",
   "metadata": {},
   "outputs": [
    {
     "data": {
      "text/plain": [
       "GridSearchCV(cv=3, estimator=RandomForestClassifier(),\n",
       "             param_grid=[{'max_depth': [None, 5, 10],\n",
       "                          'min_samples_split': [2, 3, 4],\n",
       "                          'n_estimators': [10, 100, 200, 500]}],\n",
       "             return_train_score=True, scoring='accuracy')"
      ]
     },
     "execution_count": 434,
     "metadata": {},
     "output_type": "execute_result"
    }
   ],
   "source": [
    "clf=RandomForestClassifier()\n",
    "param_grid = [\n",
    "    {\"n_estimators\":[10,100,200,500],\n",
    "    \"max_depth\": [None,5,10],\n",
    "     \"min_samples_split\": [2,3,4]\n",
    "    }\n",
    "]\n",
    "\n",
    "grid_search=GridSearchCV(clf,param_grid,cv=3,scoring=\"accuracy\",return_train_score=True)\n",
    "grid_search.fit(X_data_final,y_data_final)"
   ]
  },
  {
   "cell_type": "code",
   "execution_count": 435,
   "id": "0580f67c",
   "metadata": {},
   "outputs": [
    {
     "data": {
      "text/plain": [
       "RandomForestClassifier(n_estimators=10)"
      ]
     },
     "execution_count": 435,
     "metadata": {},
     "output_type": "execute_result"
    }
   ],
   "source": [
    "prod_final_clf=grid_search.best_estimator_\n",
    "prod_final_clf"
   ]
  },
  {
   "cell_type": "code",
   "execution_count": null,
   "id": "c647cef8",
   "metadata": {},
   "outputs": [],
   "source": []
  }
 ],
 "metadata": {
  "kernelspec": {
   "display_name": "Python 3 (ipykernel)",
   "language": "python",
   "name": "python3"
  },
  "language_info": {
   "codemirror_mode": {
    "name": "ipython",
    "version": 3
   },
   "file_extension": ".py",
   "mimetype": "text/x-python",
   "name": "python",
   "nbconvert_exporter": "python",
   "pygments_lexer": "ipython3",
   "version": "3.9.12"
  }
 },
 "nbformat": 4,
 "nbformat_minor": 5
}
